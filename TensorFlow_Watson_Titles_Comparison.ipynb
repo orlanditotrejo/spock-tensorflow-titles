{
 "cells": [
  {
   "cell_type": "markdown",
   "metadata": {},
   "source": [
    "# TensorFlow vs IBM Watson Comparison\n",
    "This notebook compares the labeling accuracy between TensorFlow and IBM Watson models training on scientific paper titles."
   ]
  },
  {
   "cell_type": "markdown",
   "metadata": {},
   "source": [
    "## Setup Libraries"
   ]
  },
  {
   "cell_type": "code",
   "execution_count": 9,
   "metadata": {
    "collapsed": true
   },
   "outputs": [],
   "source": [
    "%matplotlib inline\n",
    "%config InlineBackend.figure_format = 'retina'\n",
    "\n",
    "import matplotlib.pyplot as plt\n",
    "import numpy as np\n",
    "import pandas as pd\n",
    "import tensorflow as tf"
   ]
  },
  {
   "cell_type": "markdown",
   "metadata": {},
   "source": [
    "## Import and Process IBM Watson Results\n",
    "Two data files are used in this step:\n",
    "\n",
    "1. arxiv_classifier_test_set.csv, which contains the titles and correct labels\n",
    "2. watson_classifier_test_results_small.csv, which contains the predictied labels using the 13 different subjects"
   ]
  },
  {
   "cell_type": "code",
   "execution_count": 10,
   "metadata": {
    "collapsed": false
   },
   "outputs": [],
   "source": [
    "# Correct labels\n",
    "correct_data = pd.read_csv('arxiv_classifier_test_set.csv', encoding='latin1')\n",
    "                             #names=['title', 'main_label', 'label_2', 'label_3', 'label_4'], encoding='latin1')\n",
    "titles = correct_data['Titles']\n",
    "correct_labels = correct_data['Labels']\n",
    "\n",
    "# Predicted labels\n",
    "predicted_labels = pd.read_csv('watson_classifier_test_results_small.csv',\n",
    "                              header=None, encoding='latin1')\n",
    "predicted_labels = predicted_labels[:][1]"
   ]
  },
  {
   "cell_type": "code",
   "execution_count": 11,
   "metadata": {
    "collapsed": true
   },
   "outputs": [],
   "source": [
    "# Function to convert correct and predicted labels to integers\n",
    "def label_to_int(labels):\n",
    "    # Define classes\n",
    "    labels_class = np.array([1 if 'astro' in label else 2 if 'physics' in label\\\n",
    "                            else 3 if 'gr-' in label else 4 if 'hep' in label\\\n",
    "                            else 5 if 'math' in label else 6 if 'nlin' in label\\\n",
    "                            else 7 if 'nucl' in label else 8 if 'cond-mat' in label\\\n",
    "                            else 9 if 'q-bio' in label else 10 if 'q-fin' in label\\\n",
    "                            else 11 if 'quant-ph' in label else 12 if 'stat' in label\n",
    "                            else 0 for label in labels])\n",
    "    return labels_class"
   ]
  },
  {
   "cell_type": "code",
   "execution_count": 12,
   "metadata": {
    "collapsed": false
   },
   "outputs": [],
   "source": [
    "# Convert labels to integers\n",
    "correct_labels_int = label_to_int(correct_labels)\n",
    "predicted_labels_int = label_to_int(predicted_labels)"
   ]
  },
  {
   "cell_type": "markdown",
   "metadata": {},
   "source": [
    "## Calculate IBM Watson Subject Prediction Accuracy"
   ]
  },
  {
   "cell_type": "code",
   "execution_count": 13,
   "metadata": {
    "collapsed": false
   },
   "outputs": [],
   "source": [
    "# Create function to check matches\n",
    "def check_value_match(array1, array2):\n",
    "    matches = [1 if array1[ii] == array2[ii] else 0 for ii in range(len(array1))]\n",
    "    return matches"
   ]
  },
  {
   "cell_type": "code",
   "execution_count": 14,
   "metadata": {
    "collapsed": false
   },
   "outputs": [
    {
     "name": "stdout",
     "output_type": "stream",
     "text": [
      "IBM Watson accuracy on titles: 0.679389\n"
     ]
    }
   ],
   "source": [
    "# Calculate accuracy\n",
    "labels_matched = check_value_match(correct_labels_int, predicted_labels_int)\n",
    "\n",
    "# Print IBM Watson accuracy\n",
    "print(\"IBM Watson accuracy on titles: {:3f}\".format(np.mean(labels_matched)) )"
   ]
  },
  {
   "cell_type": "markdown",
   "metadata": {},
   "source": [
    "## Comparison\n",
    "IBM Watson outperform TensorFlow model by about 12% (56% vs. 68%). This may be due to the following:\n",
    "\n",
    "- Algorithm(s): Watson may be using something other than RNNs or LSTMs\n",
    "- Nueral network architecture (if applicable): If Watson is using RNN and LSTMs, then the architecture may be different\n",
    "- Supplementary data: In addition to the training data, Watson may be using other NPL knowledge supplementing their models\n",
    "\n",
    "In any case, it may be possible to improve the TensorFlow model by simply increasing the dataset, more thorough pre-processing steps, tyring other neural network architectures, and supplementing the model with pre-determined word embeddings."
   ]
  },
  {
   "cell_type": "code",
   "execution_count": null,
   "metadata": {
    "collapsed": true
   },
   "outputs": [],
   "source": []
  }
 ],
 "metadata": {
  "kernelspec": {
   "display_name": "Python [conda env:tensorflow2]",
   "language": "python",
   "name": "conda-env-tensorflow2-py"
  },
  "language_info": {
   "codemirror_mode": {
    "name": "ipython",
    "version": 3
   },
   "file_extension": ".py",
   "mimetype": "text/x-python",
   "name": "python",
   "nbconvert_exporter": "python",
   "pygments_lexer": "ipython3",
   "version": "3.5.2"
  }
 },
 "nbformat": 4,
 "nbformat_minor": 1
}
