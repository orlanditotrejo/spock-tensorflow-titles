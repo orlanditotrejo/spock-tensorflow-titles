{
 "cells": [
  {
   "cell_type": "markdown",
   "metadata": {},
   "source": [
    "# TensorFlow on Titles of Multiple Subjects from July 2017 Training Data \n",
    "In this notebook, a recurrent neural network is used to identify disciplines from journal titles. Using a RNN is useful and more accurate since information about the *sequence* of the words is used. For this project, a dataset of titles (features) and subjects (labels) from scientific papers is used for the RNN training. This RNN uses an *embedding layer* for a more efficient representation of the vocabulary. This new representation of words from the embedding layer is then passed to Long-Short Term Memory (LSTM) cells, which adds recurrent connections to the newtork."
   ]
  },
  {
   "cell_type": "markdown",
   "metadata": {},
   "source": [
    "## Import Main Libraries"
   ]
  },
  {
   "cell_type": "code",
   "execution_count": 1,
   "metadata": {},
   "outputs": [],
   "source": [
    "%matplotlib inline\n",
    "%config InlineBackend.figure_format = 'retina'\n",
    "\n",
    "import matplotlib.pyplot as plt\n",
    "import numpy as np\n",
    "import pandas as pd\n",
    "import tensorflow as tf"
   ]
  },
  {
   "cell_type": "markdown",
   "metadata": {},
   "source": [
    "## Import Data and Preprocess\n",
    "The original data file from the Google shared drive 'arxiv_train_set' was modified to include column labels ('Titles' and 'Labels') and saved as a csv file using Excel."
   ]
  },
  {
   "cell_type": "code",
   "execution_count": 2,
   "metadata": {},
   "outputs": [
    {
     "data": {
      "text/html": [
       "<div>\n",
       "<style>\n",
       "    .dataframe thead tr:only-child th {\n",
       "        text-align: right;\n",
       "    }\n",
       "\n",
       "    .dataframe thead th {\n",
       "        text-align: left;\n",
       "    }\n",
       "\n",
       "    .dataframe tbody tr th {\n",
       "        vertical-align: top;\n",
       "    }\n",
       "</style>\n",
       "<table border=\"1\" class=\"dataframe\">\n",
       "  <thead>\n",
       "    <tr style=\"text-align: right;\">\n",
       "      <th></th>\n",
       "      <th>Titles</th>\n",
       "      <th>Labels</th>\n",
       "    </tr>\n",
       "  </thead>\n",
       "  <tbody>\n",
       "    <tr>\n",
       "      <th>0</th>\n",
       "      <td>Understanding the redshift evolution of the lu...</td>\n",
       "      <td>astro-ph.CO</td>\n",
       "    </tr>\n",
       "    <tr>\n",
       "      <th>1</th>\n",
       "      <td>Dark Energy in vector-tensor theories of gravity</td>\n",
       "      <td>astro-ph.CO</td>\n",
       "    </tr>\n",
       "    <tr>\n",
       "      <th>2</th>\n",
       "      <td>B-mode CMB Polarization from Patchy Screening ...</td>\n",
       "      <td>astro-ph.CO</td>\n",
       "    </tr>\n",
       "    <tr>\n",
       "      <th>3</th>\n",
       "      <td>Stochastic contribution to the growth factor i...</td>\n",
       "      <td>astro-ph.CO</td>\n",
       "    </tr>\n",
       "    <tr>\n",
       "      <th>4</th>\n",
       "      <td>Discovery of an extremely bright submillimeter...</td>\n",
       "      <td>astro-ph.CO</td>\n",
       "    </tr>\n",
       "  </tbody>\n",
       "</table>\n",
       "</div>"
      ],
      "text/plain": [
       "                                              Titles       Labels\n",
       "0  Understanding the redshift evolution of the lu...  astro-ph.CO\n",
       "1   Dark Energy in vector-tensor theories of gravity  astro-ph.CO\n",
       "2  B-mode CMB Polarization from Patchy Screening ...  astro-ph.CO\n",
       "3  Stochastic contribution to the growth factor i...  astro-ph.CO\n",
       "4  Discovery of an extremely bright submillimeter...  astro-ph.CO"
      ]
     },
     "execution_count": 2,
     "metadata": {},
     "output_type": "execute_result"
    }
   ],
   "source": [
    "data = pd.read_csv('arxiv_train_set.csv', encoding='latin1') ## Encoding of latin1 helps eliminate reading errors\n",
    "data.head() ## Inspect data structure"
   ]
  },
  {
   "cell_type": "code",
   "execution_count": 3,
   "metadata": {},
   "outputs": [
    {
     "data": {
      "text/plain": [
       "'Understanding the redshift evolution of the luminosity functions of\\r  Lyman-alpha emitters'"
      ]
     },
     "execution_count": 3,
     "metadata": {},
     "output_type": "execute_result"
    }
   ],
   "source": [
    "# Define titles and labels \n",
    "titles = data.Titles.astype(str)\n",
    "labels = data.Labels.astype(str)\n",
    "\n",
    "# Inspect titles\n",
    "titles[0]"
   ]
  },
  {
   "cell_type": "markdown",
   "metadata": {},
   "source": [
    "### Cleaning Titles\n",
    "As shown in the title example, there are capitilazations, punctuations, and formatting issues that need to be cleaned up before creating an embedding layer. Hyphenated words, for now, will be made into one word. It may be useful to reconsider this approach on hyphenated words if it necessary to improve accuracies. "
   ]
  },
  {
   "cell_type": "code",
   "execution_count": 4,
   "metadata": {},
   "outputs": [
    {
     "data": {
      "text/plain": [
       "'understanding the redshift evolution of the luminosity functions of  lymanalpha emitters'"
      ]
     },
     "execution_count": 4,
     "metadata": {},
     "output_type": "execute_result"
    }
   ],
   "source": [
    "## Clean up titles\n",
    "import re\n",
    "from string import punctuation \n",
    "\n",
    "titles = titles.replace('\\r', '', regex=True) ## Remove '\\r'\n",
    "\n",
    "titles_clean = []\n",
    "for row in titles:\n",
    "    row = row.lower() ## Put all text into lowercase\n",
    "    row = ''.join([c for c in row if c not in punctuation]) ## Remove punctuation\n",
    "    titles_clean.append(row)\n",
    "    \n",
    "## Inspect clean titles\n",
    "titles_clean[0]"
   ]
  },
  {
   "cell_type": "markdown",
   "metadata": {},
   "source": [
    "### Creating vocaublary and transforming words into integers\n",
    "This step is necessary for TensorFlow to work with words of the titles in a numerical manner. All words are given a specific *token* that is used to give them a numeric presence. The value of the token does not necesarilly correlate with the length, frequency, or position of the respective word. However, it is common to sort the words by frequency to have a way to apply cutoffs in the vocabulary if needed to imporve training accuracies. An inversion dictionary was addes to convert integers back to words."
   ]
  },
  {
   "cell_type": "code",
   "execution_count": 5,
   "metadata": {},
   "outputs": [
    {
     "data": {
      "text/plain": [
       "[474, 1922, 120, 2989, 42, 7257, 7477]"
      ]
     },
     "execution_count": 5,
     "metadata": {},
     "output_type": "execute_result"
    }
   ],
   "source": [
    "## Change title words to integers\n",
    "from collections import Counter\n",
    "\n",
    "all_text = ' '.join(titles_clean) ## Create compiled text\n",
    "words = all_text.split() ## Create list of all words\n",
    "\n",
    "counts = Counter(words) ## Count the occurence of each word\n",
    "vocab = sorted(counts, key=counts.get, reverse=True) ## Sorted words by occurence\n",
    "vocab_to_int = {word: ii for ii, word in enumerate(vocab, 1)} ## Conversion dictionary\n",
    "int_to_vocab = {ii: word for ii, word in enumerate(vocab, 1)} ## Inversion dictionary\n",
    "\n",
    "titles_ints = [] ## Empty titles list for integer encoding\n",
    "for title in titles_clean:\n",
    "    titles_ints.append([vocab_to_int[word] if counts[word] > 0 and counts[word] < 600 \\\n",
    "                        else 0 for word in title.split()]) ## Included word frequency cutoffs\n",
    "    \n",
    "    \n",
    "for ii in range(len(titles_ints)):\n",
    "    titles_ints[ii] = list(filter((0).__ne__, titles_ints[ii]))\n",
    "\n",
    "## Inspect titles_ints\n",
    "titles_ints[0]\n",
    "#counts['model'] ## Check frequency for a given word to use for cutoff value"
   ]
  },
  {
   "cell_type": "markdown",
   "metadata": {},
   "source": [
    "### Subset data and one-hot-encode subjects\n",
    "In this section the data can be subseted in order to control the number of subjects to be analyzed. NOTE: For this case, subjects for a given field are being lumped together in one catergory. That is, all subjects of astrophysics are being encoded to fit in the astrophysics group and so forth. This results in 13 distinct 'subjects' to be analyzed in this notebook."
   ]
  },
  {
   "cell_type": "code",
   "execution_count": 6,
   "metadata": {},
   "outputs": [
    {
     "name": "stdout",
     "output_type": "stream",
     "text": [
      "[ 0  1  2  3  4  5  6  7  8  9 10 11 12]\n"
     ]
    }
   ],
   "source": [
    "# Create subset for titles and subjects if needed\n",
    "sub_idx = 13000 ## Subset final index\n",
    "titles_ints_sub = titles_ints[:sub_idx] ## Titles ints subset\n",
    "labels_sub = labels[:sub_idx] ## Subject subset\n",
    "\n",
    "# Encode 13 \"subjects\" (disciplines) from text to numbers\n",
    "labels_class_sub = np.array([1 if 'astro' in label else 2 if 'physics.' in label\\\n",
    "                            else 3 if 'gr-' in label else 4 if 'hep' in label\\\n",
    "                            else 5 if 'math' in label else 6 if 'nlin.' in label\\\n",
    "                            else 7 if 'nucl-' in label else 8 if 'cond-mat.' in label\\\n",
    "                            else 9 if 'q-bio.' in label else 10 if 'q-fin.' in label\\\n",
    "                            else 11 if 'quant-ph' in label else 12 if 'stat.' in label\n",
    "                            else 0 for label in labels_sub]) \n",
    "                            ## cs has to be labeled 0 to avoid overlap w/ physics\n",
    "\n",
    "print(np.unique(labels_class_sub)) ## check which subjects are being identified\n",
    "\n",
    "# One hot encode of subjects \n",
    "from sklearn import preprocessing\n",
    "lb = preprocessing.LabelBinarizer()\n",
    "lb.fit(labels_class_sub)\n",
    "labels_ints_sub = lb.transform(labels_class_sub)\n"
   ]
  },
  {
   "cell_type": "markdown",
   "metadata": {},
   "source": [
    "### Find longest title and create titles matrix with corresponding dimensions\n",
    "It is necessary to find the longest title from the subset in order to determine the number of columns necessary in titles matrix. In cases where the titles are shorter, it is necessary to pad the empty locations in a given row with zeros. All rows are filled from right to left so the padding of zeros occurs prior to each sentence of integers."
   ]
  },
  {
   "cell_type": "code",
   "execution_count": 7,
   "metadata": {},
   "outputs": [
    {
     "data": {
      "text/plain": [
       "array([   0,    0,    0,    0,    0,    0,    0,    0,    0,    0,    0,\n",
       "          0,    0,    0,    0,    0,    0,  474, 1922,  120, 2989,   42,\n",
       "       7257, 7477])"
      ]
     },
     "execution_count": 7,
     "metadata": {},
     "output_type": "execute_result"
    }
   ],
   "source": [
    "# Find length of longest title\n",
    "len_titles = []\n",
    "for i in np.arange(0, len(titles_ints_sub), 1):\n",
    "    len_titles.append(len(titles_ints_sub[i]))\n",
    "\n",
    "# Create a matrix of titles\n",
    "seq_len = max(len_titles)\n",
    "features = np.zeros((len(titles_ints_sub), seq_len), dtype=int)\n",
    "for i, row in enumerate(titles_ints_sub):\n",
    "    features[i, -len(row):] = np.array(row)[:seq_len]\n",
    "    \n",
    "# Inspect features\n",
    "features[0]"
   ]
  },
  {
   "cell_type": "markdown",
   "metadata": {},
   "source": [
    "### Shuffle and split the data into training, validation, and test sets\n",
    "First, a function is created to do a shuffle-split of the data. Next, a training set of 80% of the original dataset is created. The remaning 20% of the original data is split evenly to create a validation set for model optimization and a test set for final testing. It is important to shuffle the original dataset since it was listed in order of subjects. This is the last preprocessing step necessary to feed our data into TensorFlow."
   ]
  },
  {
   "cell_type": "code",
   "execution_count": 8,
   "metadata": {},
   "outputs": [
    {
     "name": "stderr",
     "output_type": "stream",
     "text": [
      "/usr/local/lib/python3.5/site-packages/sklearn/cross_validation.py:44: DeprecationWarning: This module was deprecated in version 0.18 in favor of the model_selection module into which all the refactored classes and functions are moved. Also note that the interface of the new CV iterators are different from that of this module. This module will be removed in 0.20.\n",
      "  \"This module will be removed in 0.20.\", DeprecationWarning)\n"
     ]
    }
   ],
   "source": [
    "# Function to shuffl and split original dataset\n",
    "from sklearn import cross_validation\n",
    "\n",
    "def shuffle_split(X, y):\n",
    "    \n",
    "    ss = cross_validation.ShuffleSplit(len(labels_ints_sub), n_iter=5, test_size=0.2, random_state=0)\n",
    "    \n",
    "    for train_index, test_index in ss:\n",
    "        X_train = X[train_index]\n",
    "        y_train = y[train_index]\n",
    "        X_test = X[test_index]\n",
    "        y_test = y[test_index]\n",
    "        \n",
    "    return X_train, y_train, X_test, y_test"
   ]
  },
  {
   "cell_type": "code",
   "execution_count": 9,
   "metadata": {},
   "outputs": [
    {
     "name": "stdout",
     "output_type": "stream",
     "text": [
      "\t\t\tFeature Shapes:\n",
      "Train set: \t\t(10400, 24) \n",
      "Validation set: \t(1300, 24) \n",
      "Test set: \t\t(1300, 24)\n"
     ]
    }
   ],
   "source": [
    "# Create first split for training and test sets\n",
    "X_train, y_train, X_test, y_test = shuffle_split(features, labels_ints_sub)\n",
    "\n",
    "# Split test set to validation and final test sets\n",
    "test_idx = int(len(y_test)*0.5)\n",
    "X_val, y_val = X_test[test_idx:], y_test[test_idx:] ## For validation\n",
    "X_tst, y_tst = X_test[:test_idx], y_test[:test_idx] ## For final testing\n",
    "\n",
    "# Print final shapes\n",
    "print('\\t\\t\\tFeature Shapes:')\n",
    "print('Train set: \\t\\t{}'.format(X_train.shape),\n",
    "     '\\nValidation set: \\t{}'.format(X_val.shape),\n",
    "     '\\nTest set: \\t\\t{}'.format(X_tst.shape))"
   ]
  },
  {
   "cell_type": "markdown",
   "metadata": {},
   "source": [
    "## Build the TensorFlow Graph\n",
    "Here, we'll build the graph. TensorFlow represents computations as a graph composed of nodes, where a node in a graph is an operation that converts zero or more Tensors and computes zero or more Tensors. \n",
    "\n",
    "First up, defining the hyperparameters.\n",
    "\n",
    "* `lstm_size`: Number of units in the hidden layers in the LSTM cells. Usually larger is better performance wise. Common values are 128, 256, 512, etc.\n",
    "* `lstm_layers`: Number of LSTM layers in the network. One is a good starting point and this code needs to be updated to add more lstm_layer. Therefore, we will keep one layer fixed for now.\n",
    "* `batch_size`: The number of titles to feed the network in one training pass. Typically this should be set as high as you can go without running out of memory.\n",
    "* `learning_rate`: Learning rate determines how \"quickly\" the optimizers will explore the solution space. "
   ]
  },
  {
   "cell_type": "code",
   "execution_count": 10,
   "metadata": {
    "collapsed": true
   },
   "outputs": [],
   "source": [
    "# Key hyperparameters\n",
    "lstm_size = 128\n",
    "lstm_layers = 1\n",
    "batch_size = 100\n",
    "learning_rate = 0.01"
   ]
  },
  {
   "cell_type": "markdown",
   "metadata": {},
   "source": [
    "### Define constants and initialize input placeholders\n",
    "Constants descriptive of the dataset need to be defined for later use in the training. Also, in TensorFlow it is necessary to create *placeholders* for inputs into the model. "
   ]
  },
  {
   "cell_type": "code",
   "execution_count": 11,
   "metadata": {
    "collapsed": true
   },
   "outputs": [],
   "source": [
    "# Constants needed to account for data properties\n",
    "n_words = len(vocab_to_int)\n",
    "n_classes = y_train.shape[1]\n",
    "\n",
    "# Create the graph object\n",
    "graph = tf.Graph()\n",
    "# Add nodes to the graph\n",
    "with graph.as_default():\n",
    "    inputs_ = tf.placeholder(tf.int32, [None, None], name='inputs') ## Titles\n",
    "    labels_ = tf.placeholder(tf.int32, [None, None], name='labels') ## Subjects\n",
    "    keep_prob = tf.placeholder(tf.float32, name='keep_prob') ## Drop probablity during training"
   ]
  },
  {
   "cell_type": "markdown",
   "metadata": {},
   "source": [
    "### Create embedding layer\n",
    "It is inefficient to one-hot encode all words in the vocabulary. Therefore, an embedding lookup matrix is created to get the embedded vectors to pass to the LSTM cell. "
   ]
  },
  {
   "cell_type": "code",
   "execution_count": 12,
   "metadata": {
    "collapsed": true
   },
   "outputs": [],
   "source": [
    "# Size of the embedding vectors (number of units in the embedding layer)\n",
    "embed_size = 200 \n",
    "\n",
    "with graph.as_default():\n",
    "    embedding = tf.Variable(tf.random_uniform((n_words, embed_size), -1, 1)) ## Lookup matrix\n",
    "    embed = tf.nn.embedding_lookup(embedding, inputs_) ## Pass embedding "
   ]
  },
  {
   "cell_type": "markdown",
   "metadata": {},
   "source": [
    "### Build LSTM cell and run data through RNN nodes\n",
    "An LSTM cell is created with dropout and the possibility of adding multiple layers if needed. The final 'cell' is then sent through the RNN nodes with *dynamic_rnn*, where TensorFlow takes care of the unrolling and time step computations."
   ]
  },
  {
   "cell_type": "code",
   "execution_count": 13,
   "metadata": {
    "collapsed": true
   },
   "outputs": [],
   "source": [
    "with graph.as_default():\n",
    "    # Your basic LSTM cell\n",
    "    lstm = tf.contrib.rnn.BasicLSTMCell(lstm_size)\n",
    "    \n",
    "    # Add dropout to the cell\n",
    "    drop = tf.contrib.rnn.DropoutWrapper(lstm, output_keep_prob=keep_prob)\n",
    "    \n",
    "    # Stack up multiple LSTM layers, for deep learning\n",
    "    cell = tf.contrib.rnn.MultiRNNCell([drop] * lstm_layers)\n",
    "    \n",
    "    # Getting an initial state of all zeros\n",
    "    initial_state = cell.zero_state(batch_size, tf.float32)"
   ]
  },
  {
   "cell_type": "code",
   "execution_count": 14,
   "metadata": {
    "collapsed": true
   },
   "outputs": [],
   "source": [
    "with graph.as_default():\n",
    "    # Run cell through RNN\n",
    "    outputs, final_state = tf.nn.dynamic_rnn(cell, embed,\n",
    "                                             initial_state=initial_state)"
   ]
  },
  {
   "cell_type": "markdown",
   "metadata": {},
   "source": [
    "### Calculate predictions and validation accuracy from outputs\n",
    "By using the final outputs, it is possible then to predict the subjects for each title. To gauage the accuracy of the RNN, a validation accuracy is determined using the validation set. "
   ]
  },
  {
   "cell_type": "code",
   "execution_count": 15,
   "metadata": {},
   "outputs": [
    {
     "name": "stdout",
     "output_type": "stream",
     "text": [
      "Tensor(\"fully_connected/Sigmoid:0\", shape=(100, 13), dtype=float32)\n"
     ]
    }
   ],
   "source": [
    "# Create predictions and calculate and optimize cost\n",
    "with graph.as_default():\n",
    "    predictions = tf.contrib.layers.fully_connected(outputs[:, -1], n_classes, activation_fn=tf.sigmoid)\n",
    "    print(predictions) ## Check dimensions; need to match bath size and subject types\n",
    "    cost = tf.losses.mean_squared_error(labels_, predictions)\n",
    "    \n",
    "    optimizer = tf.train.AdamOptimizer(learning_rate).minimize(cost)"
   ]
  },
  {
   "cell_type": "code",
   "execution_count": 16,
   "metadata": {
    "collapsed": true
   },
   "outputs": [],
   "source": [
    "# Calculate accuracy for validation \n",
    "with graph.as_default():\n",
    "    #correct_pred = tf.equal(tf.cast(tf.round(predictions), tf.int32), labels_)\n",
    "    # Need to account for multiple classifiers\n",
    "    #correct_pred = tf.equal((tf.arg_max(tf.round(predictions), 1)), (tf.arg_max(labels_, 1)))\n",
    "    # Rounding not needed when dealing with multiple classes\n",
    "    correct_pred = tf.equal(tf.arg_max(predictions, 1), tf.arg_max(labels_, 1))\n",
    "    accuracy = tf.reduce_mean(tf.cast(correct_pred, tf.float32))"
   ]
  },
  {
   "cell_type": "markdown",
   "metadata": {},
   "source": [
    "### Make batches and train RNN\n",
    "Create a function to create batchs of arbitrary size and igoner any entries left over. These batches will then be used to train the RNN and validate accuracy on the validation sets. A checkpoint file is created to record the neural network training and then can be used on the final test set. "
   ]
  },
  {
   "cell_type": "code",
   "execution_count": 17,
   "metadata": {
    "collapsed": true
   },
   "outputs": [],
   "source": [
    "# Function to create batches\n",
    "def get_batches(x, y, batch_size=10):\n",
    "    \n",
    "    n_batches = len(x)//batch_size ## Removes left over rows\n",
    "    x, y = x[:n_batches*batch_size], y[:n_batches*batch_size]\n",
    "    for ii in range(0, len(x), batch_size):\n",
    "        yield x[ii:ii+batch_size], y[ii:ii+batch_size]"
   ]
  },
  {
   "cell_type": "code",
   "execution_count": 35,
   "metadata": {},
   "outputs": [
    {
     "name": "stdout",
     "output_type": "stream",
     "text": [
      "Epoch: 0/100 Iteration: 100 Train loss: 0.055\n",
      "Val acc: 0.501\n",
      "Epoch: 1/100 Iteration: 200 Train loss: 0.045\n",
      "Val acc: 0.517\n",
      "Epoch: 2/100 Iteration: 300 Train loss: 0.031\n",
      "Val acc: 0.533\n",
      "Epoch: 3/100 Iteration: 400 Train loss: 0.030\n",
      "Val acc: 0.543\n",
      "Epoch: 4/100 Iteration: 500 Train loss: 0.013\n",
      "Val acc: 0.548\n",
      "Epoch: 5/100 Iteration: 600 Train loss: 0.016\n",
      "Val acc: 0.549\n",
      "Epoch: 6/100 Iteration: 700 Train loss: 0.007\n",
      "Val acc: 0.554\n",
      "Epoch: 7/100 Iteration: 800 Train loss: 0.016\n",
      "Val acc: 0.557\n",
      "Epoch: 8/100 Iteration: 900 Train loss: 0.012\n",
      "Val acc: 0.559\n",
      "Epoch: 9/100 Iteration: 1000 Train loss: 0.006\n",
      "Val acc: 0.560\n",
      "Epoch: 10/100 Iteration: 1100 Train loss: 0.010\n",
      "Val acc: 0.562\n",
      "Epoch: 11/100 Iteration: 1200 Train loss: 0.005\n",
      "Val acc: 0.563\n",
      "Epoch: 12/100 Iteration: 1300 Train loss: 0.003\n",
      "Val acc: 0.563\n",
      "Epoch: 13/100 Iteration: 1400 Train loss: 0.001\n",
      "Val acc: 0.564\n",
      "Epoch: 14/100 Iteration: 1500 Train loss: 0.009\n",
      "Val acc: 0.565\n",
      "Epoch: 15/100 Iteration: 1600 Train loss: 0.007\n",
      "Val acc: 0.566\n",
      "Epoch: 16/100 Iteration: 1700 Train loss: 0.005\n",
      "Val acc: 0.567\n",
      "Epoch: 17/100 Iteration: 1800 Train loss: 0.006\n",
      "Val acc: 0.568\n",
      "Epoch: 18/100 Iteration: 1900 Train loss: 0.006\n",
      "Val acc: 0.569\n",
      "Epoch: 19/100 Iteration: 2000 Train loss: 0.007\n",
      "Val acc: 0.569\n",
      "Epoch: 20/100 Iteration: 2100 Train loss: 0.006\n",
      "Val acc: 0.569\n",
      "Epoch: 21/100 Iteration: 2200 Train loss: 0.005\n",
      "Val acc: 0.570\n",
      "Epoch: 22/100 Iteration: 2300 Train loss: 0.004\n",
      "Val acc: 0.570\n",
      "Epoch: 23/100 Iteration: 2400 Train loss: 0.003\n",
      "Val acc: 0.570\n",
      "Epoch: 24/100 Iteration: 2500 Train loss: 0.004\n",
      "Val acc: 0.570\n",
      "Epoch: 24/100 Iteration: 2600 Train loss: 0.007\n",
      "Val acc: 0.570\n",
      "Epoch: 25/100 Iteration: 2700 Train loss: 0.005\n",
      "Val acc: 0.570\n",
      "Epoch: 26/100 Iteration: 2800 Train loss: 0.007\n",
      "Val acc: 0.570\n",
      "Epoch: 27/100 Iteration: 2900 Train loss: 0.007\n",
      "Val acc: 0.570\n",
      "Epoch: 28/100 Iteration: 3000 Train loss: 0.004\n",
      "Val acc: 0.570\n",
      "Epoch: 29/100 Iteration: 3100 Train loss: 0.001\n",
      "Val acc: 0.570\n",
      "Epoch: 30/100 Iteration: 3200 Train loss: 0.004\n",
      "Val acc: 0.570\n",
      "Epoch: 31/100 Iteration: 3300 Train loss: 0.002\n",
      "Val acc: 0.570\n",
      "Epoch: 32/100 Iteration: 3400 Train loss: 0.007\n",
      "Val acc: 0.570\n",
      "Epoch: 33/100 Iteration: 3500 Train loss: 0.004\n",
      "Val acc: 0.570\n",
      "Epoch: 34/100 Iteration: 3600 Train loss: 0.002\n",
      "Val acc: 0.570\n",
      "Epoch: 35/100 Iteration: 3700 Train loss: 0.007\n",
      "Val acc: 0.570\n",
      "Epoch: 36/100 Iteration: 3800 Train loss: 0.002\n",
      "Val acc: 0.570\n",
      "Epoch: 37/100 Iteration: 3900 Train loss: 0.003\n",
      "Val acc: 0.569\n",
      "Epoch: 38/100 Iteration: 4000 Train loss: 0.000\n",
      "Val acc: 0.569\n",
      "Epoch: 39/100 Iteration: 4100 Train loss: 0.008\n",
      "Val acc: 0.569\n",
      "Epoch: 40/100 Iteration: 4200 Train loss: 0.003\n",
      "Val acc: 0.569\n",
      "Epoch: 41/100 Iteration: 4300 Train loss: 0.004\n",
      "Val acc: 0.569\n",
      "Epoch: 42/100 Iteration: 4400 Train loss: 0.002\n",
      "Val acc: 0.569\n",
      "Epoch: 43/100 Iteration: 4500 Train loss: 0.004\n",
      "Val acc: 0.570\n",
      "Epoch: 44/100 Iteration: 4600 Train loss: 0.005\n",
      "Val acc: 0.569\n",
      "Epoch: 45/100 Iteration: 4700 Train loss: 0.005\n",
      "Val acc: 0.569\n",
      "Epoch: 46/100 Iteration: 4800 Train loss: 0.004\n",
      "Val acc: 0.569\n",
      "Epoch: 47/100 Iteration: 4900 Train loss: 0.002\n",
      "Val acc: 0.569\n",
      "Epoch: 48/100 Iteration: 5000 Train loss: 0.004\n",
      "Val acc: 0.569\n",
      "Epoch: 49/100 Iteration: 5100 Train loss: 0.004\n",
      "Val acc: 0.569\n",
      "Epoch: 49/100 Iteration: 5200 Train loss: 0.004\n",
      "Val acc: 0.569\n",
      "Epoch: 50/100 Iteration: 5300 Train loss: 0.003\n",
      "Val acc: 0.568\n",
      "Epoch: 51/100 Iteration: 5400 Train loss: 0.001\n",
      "Val acc: 0.568\n",
      "Epoch: 52/100 Iteration: 5500 Train loss: 0.004\n",
      "Val acc: 0.568\n",
      "Epoch: 53/100 Iteration: 5600 Train loss: 0.005\n",
      "Val acc: 0.568\n",
      "Epoch: 54/100 Iteration: 5700 Train loss: 0.001\n",
      "Val acc: 0.568\n",
      "Epoch: 55/100 Iteration: 5800 Train loss: 0.002\n",
      "Val acc: 0.568\n",
      "Epoch: 56/100 Iteration: 5900 Train loss: 0.002\n",
      "Val acc: 0.567\n",
      "Epoch: 57/100 Iteration: 6000 Train loss: 0.007\n",
      "Val acc: 0.567\n",
      "Epoch: 58/100 Iteration: 6100 Train loss: 0.004\n",
      "Val acc: 0.567\n",
      "Epoch: 59/100 Iteration: 6200 Train loss: 0.002\n",
      "Val acc: 0.567\n",
      "Epoch: 60/100 Iteration: 6300 Train loss: 0.006\n",
      "Val acc: 0.567\n",
      "Epoch: 61/100 Iteration: 6400 Train loss: 0.001\n",
      "Val acc: 0.567\n",
      "Epoch: 62/100 Iteration: 6500 Train loss: 0.001\n",
      "Val acc: 0.567\n",
      "Epoch: 63/100 Iteration: 6600 Train loss: 0.001\n",
      "Val acc: 0.567\n",
      "Epoch: 64/100 Iteration: 6700 Train loss: 0.006\n",
      "Val acc: 0.567\n",
      "Epoch: 65/100 Iteration: 6800 Train loss: 0.005\n",
      "Val acc: 0.567\n",
      "Epoch: 66/100 Iteration: 6900 Train loss: 0.003\n",
      "Val acc: 0.566\n",
      "Epoch: 67/100 Iteration: 7000 Train loss: 0.003\n",
      "Val acc: 0.566\n",
      "Epoch: 68/100 Iteration: 7100 Train loss: 0.003\n",
      "Val acc: 0.566\n",
      "Epoch: 69/100 Iteration: 7200 Train loss: 0.006\n",
      "Val acc: 0.566\n",
      "Epoch: 70/100 Iteration: 7300 Train loss: 0.003\n",
      "Val acc: 0.566\n",
      "Epoch: 71/100 Iteration: 7400 Train loss: 0.005\n",
      "Val acc: 0.566\n",
      "Epoch: 72/100 Iteration: 7500 Train loss: 0.004\n",
      "Val acc: 0.566\n",
      "Epoch: 73/100 Iteration: 7600 Train loss: 0.005\n",
      "Val acc: 0.566\n",
      "Epoch: 74/100 Iteration: 7700 Train loss: 0.005\n",
      "Val acc: 0.566\n",
      "Epoch: 74/100 Iteration: 7800 Train loss: 0.006\n",
      "Val acc: 0.566\n",
      "Epoch: 75/100 Iteration: 7900 Train loss: 0.004\n",
      "Val acc: 0.566\n",
      "Epoch: 76/100 Iteration: 8000 Train loss: 0.003\n",
      "Val acc: 0.566\n",
      "Epoch: 77/100 Iteration: 8100 Train loss: 0.005\n",
      "Val acc: 0.566\n",
      "Epoch: 78/100 Iteration: 8200 Train loss: 0.003\n",
      "Val acc: 0.565\n",
      "Epoch: 79/100 Iteration: 8300 Train loss: 0.003\n",
      "Val acc: 0.565\n",
      "Epoch: 80/100 Iteration: 8400 Train loss: 0.003\n",
      "Val acc: 0.565\n",
      "Epoch: 81/100 Iteration: 8500 Train loss: 0.001\n",
      "Val acc: 0.565\n",
      "Epoch: 82/100 Iteration: 8600 Train loss: 0.005\n",
      "Val acc: 0.565\n",
      "Epoch: 83/100 Iteration: 8700 Train loss: 0.002\n",
      "Val acc: 0.565\n",
      "Epoch: 84/100 Iteration: 8800 Train loss: 0.002\n",
      "Val acc: 0.565\n",
      "Epoch: 85/100 Iteration: 8900 Train loss: 0.006\n",
      "Val acc: 0.565\n",
      "Epoch: 86/100 Iteration: 9000 Train loss: 0.001\n",
      "Val acc: 0.565\n",
      "Epoch: 87/100 Iteration: 9100 Train loss: 0.002\n",
      "Val acc: 0.565\n",
      "Epoch: 88/100 Iteration: 9200 Train loss: 0.000\n",
      "Val acc: 0.565\n",
      "Epoch: 89/100 Iteration: 9300 Train loss: 0.005\n",
      "Val acc: 0.565\n",
      "Epoch: 90/100 Iteration: 9400 Train loss: 0.002\n",
      "Val acc: 0.565\n",
      "Epoch: 91/100 Iteration: 9500 Train loss: 0.006\n",
      "Val acc: 0.565\n",
      "Epoch: 92/100 Iteration: 9600 Train loss: 0.002\n",
      "Val acc: 0.565\n",
      "Epoch: 93/100 Iteration: 9700 Train loss: 0.005\n",
      "Val acc: 0.565\n",
      "Epoch: 94/100 Iteration: 9800 Train loss: 0.006\n",
      "Val acc: 0.565\n",
      "Epoch: 95/100 Iteration: 9900 Train loss: 0.005\n",
      "Val acc: 0.565\n",
      "Epoch: 96/100 Iteration: 10000 Train loss: 0.004\n",
      "Val acc: 0.565\n",
      "Epoch: 97/100 Iteration: 10100 Train loss: 0.003\n",
      "Val acc: 0.565\n",
      "Epoch: 98/100 Iteration: 10200 Train loss: 0.005\n",
      "Val acc: 0.565\n",
      "Epoch: 99/100 Iteration: 10300 Train loss: 0.004\n",
      "Val acc: 0.564\n",
      "Epoch: 99/100 Iteration: 10400 Train loss: 0.008\n",
      "Val acc: 0.564\n"
     ]
    }
   ],
   "source": [
    "# Typical trainig code for TensorFlow\n",
    "\n",
    "epochs = 100 ## Number of full iterations\n",
    "\n",
    "with graph.as_default():\n",
    "    saver = tf.train.Saver()\n",
    "\n",
    "losses = [] ## Keep track of training losses for plotting later\n",
    "val_acc = [] ## Keep track of validation accuracy for plotting later\n",
    "with tf.Session(graph=graph) as sess:\n",
    "    sess.run(tf.global_variables_initializer())\n",
    "    iteration = 1\n",
    "    for e in range(epochs):\n",
    "        state = sess.run(initial_state)\n",
    "        \n",
    "        for ii, (x, y) in enumerate(get_batches(X_train, y_train, batch_size), 1):\n",
    "            feed = {inputs_: x,\n",
    "                    labels_: np.array(y),\n",
    "                    keep_prob: 0.5,\n",
    "                    initial_state: state}\n",
    "\n",
    "            loss, state, _ = sess.run([cost, final_state, optimizer], feed_dict=feed)\n",
    "            losses.append(loss)\n",
    "            \n",
    "            if iteration%100==0:\n",
    "                print(\"Epoch: {}/{}\".format(e, epochs),\n",
    "                      \"Iteration: {}\".format(iteration),\n",
    "                      \"Train loss: {:.3f}\".format(loss))\n",
    "            if iteration%100==0:\n",
    "                #val_acc = []\n",
    "                val_state = sess.run(cell.zero_state(batch_size, tf.float32))\n",
    "                for x, y in get_batches(X_val, y_val, batch_size):\n",
    "                    feed = {inputs_: x,\n",
    "                            labels_: np.array(y),\n",
    "                            keep_prob: 1,\n",
    "                            initial_state: val_state}\n",
    "                    batch_acc, val_state = sess.run([accuracy, final_state], feed_dict=feed)\n",
    "                    val_acc.append(batch_acc)\n",
    "                print(\"Val acc: {:.3f}\".format(np.mean(val_acc)))\n",
    "            iteration +=1\n",
    "\n",
    "    saver.save(sess, \"checkpoints/subjects.ckpt\")"
   ]
  },
  {
   "cell_type": "code",
   "execution_count": 36,
   "metadata": {},
   "outputs": [
    {
     "data": {
      "image/png": "[encoded data removed]",
      "text/plain": [
       "<matplotlib.figure.Figure at 0x7f091d4907b8>"
      ]
     },
     "metadata": {
      "image/png": {
       "height": 252,
       "width": 388
      }
     },
     "output_type": "display_data"
    }
   ],
   "source": [
    "plt.plot(losses, label='Training Loss')\n",
    "plt.legend()\n",
    "plt.ylim(ymax=0.07)\n",
    "plt.show()\n",
    "\n",
    "\n",
    "with open('runs/256_1_loss_3.csv', 'w') as file_handler:\n",
    "    for item in losses:\n",
    "        file_handler.write(\"{}\\n\".format(item))"
   ]
  },
  {
   "cell_type": "code",
   "execution_count": 37,
   "metadata": {},
   "outputs": [
    {
     "data": {
      "image/png": "[encoded data removed]",
      "text/plain": [
       "<matplotlib.figure.Figure at 0x7f08f47faa20>"
      ]
     },
     "metadata": {
      "image/png": {
       "height": 252,
       "width": 387
      }
     },
     "output_type": "display_data"
    }
   ],
   "source": [
    "plt.plot(val_acc, label='Validation Accuracy')\n",
    "plt.legend()\n",
    "plt.ylim(ymax=0.7)\n",
    "plt.show()\n",
    "\n",
    "with open('runs/256_1_acc_3.csv', 'w') as file_handler:\n",
    "    for item in val_acc:\n",
    "        file_handler.write(\"{}\\n\".format(item))"
   ]
  },
  {
   "cell_type": "code",
   "execution_count": 38,
   "metadata": {},
   "outputs": [
    {
     "data": {
      "text/plain": [
       "{'boxes': [<matplotlib.lines.Line2D at 0x7f091c10b860>],\n",
       " 'caps': [<matplotlib.lines.Line2D at 0x7f091c111fd0>,\n",
       "  <matplotlib.lines.Line2D at 0x7f091c1159e8>],\n",
       " 'fliers': [<matplotlib.lines.Line2D at 0x7f091c11cdd8>],\n",
       " 'means': [],\n",
       " 'medians': [<matplotlib.lines.Line2D at 0x7f091c11c400>],\n",
       " 'whiskers': [<matplotlib.lines.Line2D at 0x7f091c10bb00>,\n",
       "  <matplotlib.lines.Line2D at 0x7f091c111e48>]}"
      ]
     },
     "execution_count": 38,
     "metadata": {},
     "output_type": "execute_result"
    },
    {
     "data": {
      "image/png": "[encoded data removed]",
      "text/plain": [
       "<matplotlib.figure.Figure at 0x7f091d33d320>"
      ]
     },
     "metadata": {
      "image/png": {
       "height": 250,
       "width": 380
      }
     },
     "output_type": "display_data"
    }
   ],
   "source": [
    "plt.boxplot(val_acc)"
   ]
  },
  {
   "cell_type": "markdown",
   "metadata": {},
   "source": [
    "### Test RNN on final test set\n",
    "This code runs final test set to determing final accuracy of trained RNN network. It is important to have a directory where the checkpoint file may be stored for this last testing step."
   ]
  },
  {
   "cell_type": "code",
   "execution_count": 73,
   "metadata": {},
   "outputs": [
    {
     "name": "stdout",
     "output_type": "stream",
     "text": [
      "[array([[  7.79172699e-11,   5.56768573e-16,   2.12373717e-12, ...,\n",
      "          4.26313851e-13,   8.38768684e-14,   9.85325016e-12],\n",
      "       [  1.25023762e-05,   3.69962805e-07,   6.27987831e-08, ...,\n",
      "          8.46562675e-13,   4.62763335e-11,   7.70887464e-14],\n",
      "       [  4.05519785e-07,   5.03881962e-12,   9.28573607e-11, ...,\n",
      "          6.45168164e-13,   5.49121187e-13,   1.02152791e-11],\n",
      "       ..., \n",
      "       [  3.63883434e-09,   3.40148567e-08,   6.06710732e-01, ...,\n",
      "          1.77699078e-10,   3.33407058e-07,   1.95666677e-10],\n",
      "       [  6.44740453e-07,   1.52846606e-08,   9.99889851e-01, ...,\n",
      "          7.77958764e-09,   4.97531927e-09,   2.04898868e-07],\n",
      "       [  9.99998450e-01,   2.19291187e-12,   7.51387175e-10, ...,\n",
      "          6.03793708e-13,   1.53543549e-11,   1.09172723e-11]], dtype=float32), array([[  2.56912291e-09,   3.33426049e-14,   6.84880930e-10, ...,\n",
      "          2.01945563e-14,   7.74803399e-12,   3.76108561e-10],\n",
      "       [  2.06533244e-07,   3.05839992e-10,   1.10181764e-09, ...,\n",
      "          6.44113181e-13,   2.51567755e-12,   2.24458971e-12],\n",
      "       [  9.08900893e-06,   9.70666581e-13,   1.12759408e-05, ...,\n",
      "          1.51102256e-07,   5.85482383e-07,   1.28144864e-04],\n",
      "       ..., \n",
      "       [  7.28931315e-09,   7.02491842e-10,   3.71234488e-09, ...,\n",
      "          1.33851197e-09,   3.41705483e-11,   1.79374487e-10],\n",
      "       [  7.56046503e-10,   4.22867958e-13,   3.58060515e-06, ...,\n",
      "          6.18927771e-08,   5.54553381e-09,   1.92492536e-07],\n",
      "       [  1.07049122e-02,   5.50936623e-11,   5.81611603e-09, ...,\n",
      "          2.99757962e-11,   1.51256767e-08,   4.00366673e-08]], dtype=float32), array([[  1.27744419e-08,   9.99998569e-01,   2.42719373e-08, ...,\n",
      "          7.95864243e-12,   1.36840717e-09,   2.41131624e-15],\n",
      "       [  1.00619140e-07,   7.87324339e-09,   2.75153038e-08, ...,\n",
      "          3.72905222e-12,   2.48822562e-05,   1.63905656e-09],\n",
      "       [  1.00000000e+00,   1.46533366e-13,   3.04401816e-11, ...,\n",
      "          8.97803289e-14,   5.84529712e-13,   1.11291727e-12],\n",
      "       ..., \n",
      "       [  9.99999881e-01,   1.43984835e-12,   2.52262187e-11, ...,\n",
      "          8.49483840e-13,   5.34116501e-11,   3.96686069e-12],\n",
      "       [  1.88051956e-03,   2.04605399e-09,   8.24674551e-09, ...,\n",
      "          7.63467345e-10,   5.12277012e-08,   3.47521928e-10],\n",
      "       [  8.22867274e-10,   3.53692444e-12,   2.95409835e-10, ...,\n",
      "          1.34149007e-12,   7.04987124e-10,   1.03348763e-09]], dtype=float32), array([[  6.39854225e-10,   9.21447502e-15,   1.08341737e-07, ...,\n",
      "          2.46390597e-09,   8.51723416e-06,   2.34616763e-07],\n",
      "       [  2.61868681e-05,   7.72557978e-05,   7.71894991e-01, ...,\n",
      "          2.42873082e-08,   5.14869771e-06,   1.30049386e-07],\n",
      "       [  2.06446753e-08,   2.89788245e-11,   9.99999762e-01, ...,\n",
      "          3.17127097e-12,   7.95253996e-09,   2.52229357e-12],\n",
      "       ..., \n",
      "       [  5.97171201e-10,   1.23778223e-12,   9.99991417e-01, ...,\n",
      "          4.70955323e-11,   4.11066910e-11,   7.86574104e-12],\n",
      "       [  6.77594558e-09,   2.29934782e-09,   1.20416954e-09, ...,\n",
      "          4.90410113e-09,   3.39784001e-09,   2.59686214e-11],\n",
      "       [  1.40133547e-03,   2.64044189e-07,   4.85975295e-04, ...,\n",
      "          3.37886057e-08,   5.28265882e-05,   1.35319658e-06]], dtype=float32), array([[  3.94869573e-07,   1.19338042e-08,   9.09923727e-08, ...,\n",
      "          3.15908411e-11,   1.15472192e-08,   5.39136693e-07],\n",
      "       [  1.09915028e-08,   1.52901178e-15,   1.21677861e-01, ...,\n",
      "          9.29667510e-10,   8.99367386e-12,   6.85591149e-05],\n",
      "       [  1.93113119e-05,   9.51054275e-08,   2.86141830e-03, ...,\n",
      "          6.43354781e-07,   4.73658401e-09,   1.77256446e-02],\n",
      "       ..., \n",
      "       [  9.84722355e-05,   3.49331895e-05,   8.60872795e-04, ...,\n",
      "          1.70282973e-07,   1.35273048e-09,   5.19453533e-06],\n",
      "       [  9.99955416e-01,   1.74969197e-13,   3.64323895e-08, ...,\n",
      "          1.10140141e-13,   1.52746560e-09,   7.51617847e-07],\n",
      "       [  2.10928928e-08,   1.02805500e-10,   6.75573943e-08, ...,\n",
      "          1.91206819e-08,   2.27124764e-12,   1.52958278e-12]], dtype=float32), array([[  9.99998212e-01,   5.35958257e-12,   2.24481132e-13, ...,\n",
      "          4.77641277e-12,   5.56531861e-12,   1.89416989e-11],\n",
      "       [  2.27157604e-09,   5.78941443e-11,   9.99999404e-01, ...,\n",
      "          4.05620433e-11,   3.39882844e-11,   9.14868984e-13],\n",
      "       [  1.69872089e-10,   2.27875566e-11,   1.19098997e-09, ...,\n",
      "          3.62612913e-12,   1.42379519e-09,   1.01452805e-07],\n",
      "       ..., \n",
      "       [  9.91610229e-01,   1.06387301e-06,   1.42525450e-05, ...,\n",
      "          3.61243337e-08,   1.65514265e-07,   3.68607180e-05],\n",
      "       [  1.98665679e-01,   5.45624240e-11,   7.05046643e-09, ...,\n",
      "          6.32401198e-09,   2.98017788e-09,   1.01403623e-08],\n",
      "       [  1.36181795e-08,   5.24290951e-13,   9.99992251e-01, ...,\n",
      "          9.88982876e-13,   4.72071660e-10,   4.84897539e-12]], dtype=float32), array([[  9.99999881e-01,   8.14492050e-12,   1.23851152e-09, ...,\n",
      "          1.77249361e-12,   5.41831857e-10,   4.83586912e-12],\n",
      "       [  1.04994291e-09,   1.75701190e-10,   7.16423310e-11, ...,\n",
      "          8.41327216e-11,   1.40149148e-09,   2.05254536e-10],\n",
      "       [  9.92481768e-01,   1.62125275e-07,   1.22946176e-07, ...,\n",
      "          1.31806621e-10,   1.03601542e-06,   2.13763278e-11],\n",
      "       ..., \n",
      "       [  1.32013813e-08,   9.35064236e-06,   2.49202326e-01, ...,\n",
      "          1.00684328e-09,   7.50840670e-08,   8.15431833e-10],\n",
      "       [  9.99902487e-01,   1.07844966e-09,   2.02591899e-09, ...,\n",
      "          3.60960567e-10,   1.83280648e-11,   1.16440688e-08],\n",
      "       [  7.59394059e-09,   1.26550018e-12,   3.83490262e-09, ...,\n",
      "          6.64240885e-11,   8.05948895e-13,   5.34706945e-10]], dtype=float32), array([[  3.95786719e-06,   7.45157491e-10,   1.79339310e-07, ...,\n",
      "          6.20664098e-09,   2.76167935e-04,   1.16062176e-06],\n",
      "       [  2.30933188e-06,   2.61907153e-05,   6.46106317e-04, ...,\n",
      "          7.37801287e-08,   8.42048667e-06,   5.47469142e-07],\n",
      "       [  9.77766194e-06,   3.55068336e-10,   9.99999523e-01, ...,\n",
      "          9.05781317e-09,   1.66283431e-08,   6.43281197e-08],\n",
      "       ..., \n",
      "       [  6.37735307e-01,   8.85001737e-06,   1.33497324e-02, ...,\n",
      "          1.67456526e-09,   1.49791681e-08,   5.42760015e-09],\n",
      "       [  2.47707965e-10,   3.84247294e-13,   4.51801790e-12, ...,\n",
      "          3.45498342e-13,   9.90264511e-13,   2.32113079e-11],\n",
      "       [  1.37713971e-06,   5.30815800e-04,   9.99927521e-01, ...,\n",
      "          8.77967837e-11,   5.55884435e-06,   4.81249849e-08]], dtype=float32), array([[  1.42149976e-03,   7.32543958e-06,   3.33932549e-05, ...,\n",
      "          3.40586121e-05,   3.46918605e-10,   2.49268282e-07],\n",
      "       [  9.99999762e-01,   3.04264507e-13,   5.64286916e-11, ...,\n",
      "          1.03922350e-10,   9.21239440e-09,   3.40390993e-10],\n",
      "       [  2.60212563e-09,   9.75562631e-10,   1.37829037e-09, ...,\n",
      "          9.99994874e-01,   2.94063242e-15,   6.02450179e-09],\n",
      "       ..., \n",
      "       [  2.87967900e-10,   1.40321587e-14,   8.61773292e-11, ...,\n",
      "          1.24258740e-05,   1.33875200e-09,   2.92555891e-09],\n",
      "       [  7.16068482e-10,   2.09614693e-15,   6.87756110e-04, ...,\n",
      "          9.76981496e-10,   1.69137293e-09,   6.11853608e-08],\n",
      "       [  2.61192112e-09,   9.79131359e-12,   4.21179841e-10, ...,\n",
      "          2.05497078e-13,   1.14405859e-12,   1.29329371e-12]], dtype=float32), array([[  4.14375911e-09,   1.16046858e-05,   9.99362528e-01, ...,\n",
      "          9.45660390e-12,   1.54049573e-07,   6.60879407e-11],\n",
      "       [  5.59890668e-06,   8.18140555e-11,   6.68648303e-10, ...,\n",
      "          5.28704303e-10,   4.85135283e-12,   6.46435058e-11],\n",
      "       [  9.99999881e-01,   6.02971652e-14,   2.67950107e-10, ...,\n",
      "          1.39184595e-12,   1.13165770e-12,   1.44554182e-12],\n",
      "       ..., \n",
      "       [  1.88241089e-11,   6.38581898e-16,   1.26138015e-11, ...,\n",
      "          5.04314819e-15,   9.98058407e-12,   5.10462766e-12],\n",
      "       [  1.94957654e-03,   1.36056844e-09,   1.93799526e-04, ...,\n",
      "          4.21523403e-08,   2.46653920e-09,   6.38860982e-08],\n",
      "       [  4.46090803e-10,   5.73802561e-13,   5.62501315e-04, ...,\n",
      "          2.20271758e-07,   1.07114857e-07,   1.09257860e-06]], dtype=float32), array([[  1.00000000e+00,   3.23982404e-13,   6.77292424e-12, ...,\n",
      "          2.16007428e-13,   7.54640653e-13,   2.05853000e-12],\n",
      "       [  8.34855030e-07,   8.59597003e-06,   9.74351943e-01, ...,\n",
      "          1.80112125e-04,   1.70367675e-05,   1.51190049e-09],\n",
      "       [  1.14833674e-04,   3.78762827e-10,   2.20538510e-07, ...,\n",
      "          1.91733261e-06,   4.93925456e-10,   8.01094472e-01],\n",
      "       ..., \n",
      "       [  5.73500358e-10,   1.18740763e-06,   4.17078372e-05, ...,\n",
      "          1.02444503e-07,   2.05902104e-08,   8.63563159e-08],\n",
      "       [  3.80085112e-07,   1.43035042e-08,   1.79385822e-07, ...,\n",
      "          6.50551158e-07,   3.82286203e-08,   1.43374322e-07],\n",
      "       [  2.76394752e-09,   2.57913246e-10,   4.07662490e-08, ...,\n",
      "          1.16912036e-08,   3.38369791e-05,   1.03904563e-09]], dtype=float32), array([[  9.99999881e-01,   9.00979985e-11,   4.03207856e-10, ...,\n",
      "          1.41813210e-11,   2.44818228e-11,   2.85661230e-12],\n",
      "       [  9.99999881e-01,   4.02979317e-11,   1.79962967e-09, ...,\n",
      "          8.47668203e-12,   2.30136283e-08,   8.46894638e-11],\n",
      "       [  1.96722887e-08,   6.51510096e-11,   1.00000000e+00, ...,\n",
      "          2.08244067e-13,   1.52567781e-09,   4.56464467e-12],\n",
      "       ..., \n",
      "       [  6.10901121e-11,   4.44394650e-15,   2.47457415e-12, ...,\n",
      "          6.77768592e-14,   3.60178765e-13,   9.52399895e-11],\n",
      "       [  2.92055224e-09,   4.40453706e-12,   4.30329038e-07, ...,\n",
      "          1.35244723e-12,   4.80511672e-11,   2.71707852e-12],\n",
      "       [  5.41246777e-07,   1.65687943e-08,   1.84046243e-07, ...,\n",
      "          1.65232602e-11,   7.89642962e-10,   6.60531560e-11]], dtype=float32), array([[  4.86054148e-08,   8.57138271e-09,   9.99999285e-01, ...,\n",
      "          7.40083411e-11,   5.07712983e-08,   6.25838437e-10],\n",
      "       [  9.97790813e-01,   1.75199966e-09,   5.16148120e-08, ...,\n",
      "          9.69888947e-10,   1.15486003e-07,   4.29009761e-09],\n",
      "       [  1.01303295e-08,   3.23391453e-10,   2.38450866e-06, ...,\n",
      "          3.15186904e-10,   2.39637168e-13,   7.54593614e-08],\n",
      "       ..., \n",
      "       [  1.00000000e+00,   1.98198771e-13,   1.10824917e-11, ...,\n",
      "          2.50616856e-14,   2.16243343e-12,   6.41837115e-13],\n",
      "       [  9.91766274e-01,   4.98282171e-09,   3.07728357e-07, ...,\n",
      "          9.26378696e-10,   2.16384646e-10,   1.37072685e-03],\n",
      "       [  6.30170049e-09,   8.62977699e-14,   1.25516908e-05, ...,\n",
      "          1.49790185e-06,   6.55413430e-08,   7.64670494e-06]], dtype=float32)]\n",
      "Test accuracy: 0.562\n"
     ]
    }
   ],
   "source": [
    "import random\n",
    "n_samples = 3\n",
    "top_n_predictions = 3\n",
    "\n",
    "\n",
    "test_acc = [] ## Placeholder for test accuracy\n",
    "preds = [] ## Placeholder for troubleshooting predicitons\n",
    "correct_preds = [] ## Placeholder for troubleshooting prediction comparisons\n",
    "correct_args = [] ## Placeholder for troubleshooting boolean argument on predictions\n",
    "correct_cast = [] ## Place holder for troubleshooting casting boolean into integers\n",
    "with tf.Session(graph=graph) as sess:\n",
    "    saver.restore(sess, tf.train.latest_checkpoint('checkpoints'))\n",
    "    test_state = sess.run(cell.zero_state(batch_size, tf.float32))\n",
    "    for ii, (x, y) in enumerate(get_batches(X_tst, y_tst, batch_size), 1):\n",
    "        feed = {inputs_: x,\n",
    "                labels_: y,\n",
    "                keep_prob: 1,\n",
    "                initial_state: test_state}\n",
    "        batch_acc, test_state = sess.run([accuracy, final_state], feed_dict=feed)\n",
    "        # For trouble shooting accuracy calculation errors\n",
    "        preds.append(sess.run((predictions), feed_dict=feed))\n",
    "        correct_preds.append(sess.run((correct_pred), feed_dict=feed))\n",
    "        correct_args.append(sess.run(tf.equal((tf.arg_max(predictions, 1)), (tf.arg_max(y, 1))), feed_dict=feed))\n",
    "        correct_cast.append(sess.run(tf.cast(correct_pred, tf.float32), feed_dict=feed))\n",
    "        #print(y)\n",
    "        test_acc.append(batch_acc)\n",
    "    print(preds[0])\n",
    "    #random_test_features, random_test_labels = tuple(zip(*random.sample(list(zip(X_tst, y_tst)), n_samples)))\n",
    "    #print(random_test_features)\n",
    "    #print(random_test_labels)\n",
    "    #feed2 = {inputs_: random_test_features, labels_: random_test_labels, keep_prob: 1}\n",
    "    #random_test_predictions = sess.run(predictions, feed_dict=feed2)\n",
    "    #print(random_test_predictions)\n",
    "    #display_image_predictions(random_test_features, random_test_labels, random_test_predictions)\n",
    "    print(\"Test accuracy: {:.3f}\".format(np.mean(test_acc)))"
   ]
  },
  {
   "cell_type": "code",
   "execution_count": 62,
   "metadata": {
    "collapsed": true
   },
   "outputs": [],
   "source": [
    "def _load_label_names():\n",
    "    \"\"\"\n",
    "    Load the label names from file\n",
    "    \"\"\"\n",
    "    return ['cs', 'astro', 'physics', 'gr', 'hep', 'math', 'nlin', 'nucl', 'cond-mat', 'q-bio', 'q-fin', 'quant-ph', 'stat']\n",
    "\n",
    "def display_image_predictions(features, labels, predictions):\n",
    "    n_classes = 13\n",
    "    label_names = _load_label_names()\n",
    "    label_binarizer = lb\n",
    "    label_binarizer.fit(range(n_classes))\n",
    "    label_ids = label_binarizer.inverse_transform(np.array(labels))\n",
    "\n",
    "    fig, axies = plt.subplots(nrows=4, ncols=2)\n",
    "    fig.tight_layout()\n",
    "    fig.suptitle('Softmax Predictions', fontsize=20, y=1.1)\n",
    "\n",
    "    n_predictions = 3\n",
    "    margin = 0.05\n",
    "    ind = np.arange(n_predictions)\n",
    "    width = (1. - 2. * margin) / n_predictions\n",
    "\n",
    "    for image_i, (feature, label_id, pred_indicies, pred_values) in enumerate(zip(features, label_ids, predictions.indices, predictions.values)):\n",
    "        pred_names = [label_names[pred_i] for pred_i in pred_indicies]\n",
    "        correct_name = label_names[label_id]\n",
    "\n",
    "        axies[image_i][0].imshow(feature)\n",
    "        axies[image_i][0].set_title(correct_name)\n",
    "        axies[image_i][0].set_axis_off()\n",
    "\n",
    "        axies[image_i][1].barh(ind + margin, pred_values[::-1], width)\n",
    "        axies[image_i][1].set_yticks(ind + margin)\n",
    "        axies[image_i][1].set_yticklabels(pred_names[::-1])\n",
    "        axies[image_i][1].set_xticks([0, 0.5, 1.0])"
   ]
  },
  {
   "cell_type": "code",
   "execution_count": 94,
   "metadata": {},
   "outputs": [
    {
     "name": "stdout",
     "output_type": "stream",
     "text": [
      "Tensor(\"ArgMax_445:0\", shape=(), dtype=int64)\n"
     ]
    }
   ],
   "source": [
    "with tf.Session(graph=graph) as sess:\n",
    "    print(tf.arg_max(preds[0][1], 0))\n",
    "    #y_tst[1]\n",
    "#correct_preds[0]\n",
    "\n",
    "#display_image_predictions(X_tst[0:2], y_tst[0:2], preds[0][0:2])"
   ]
  },
  {
   "cell_type": "markdown",
   "metadata": {
    "collapsed": true
   },
   "source": [
    "## Conclusions\n",
    "For a set of 13 subjects, subject prediction accuracies are around 53-57% Accuracies for 9 subjects are around 60%, for 6 subjects around 75%, and for 3 subjects around 90%. Cutting off words with frequencies greater than 600 for this dataset helps. A simple RNN structure peforms the best for this dataset with a single layer containing 64 nodes. The embedding size around 150 also gives consistent optimal performance. To improve accuracy, it is likely we will need to consider the fact that a paper can fall in multiple categories.  "
   ]
  },
  {
   "cell_type": "code",
   "execution_count": null,
   "metadata": {
    "collapsed": true
   },
   "outputs": [],
   "source": []
  }
 ],
 "metadata": {
  "anaconda-cloud": {},
  "kernelspec": {
   "display_name": "Python 3",
   "language": "python",
   "name": "python3"
  },
  "language_info": {
   "codemirror_mode": {
    "name": "ipython",
    "version": 3
   },
   "file_extension": ".py",
   "mimetype": "text/x-python",
   "name": "python",
   "nbconvert_exporter": "python",
   "pygments_lexer": "ipython3",
   "version": "3.5.3"
  }
 },
 "nbformat": 4,
 "nbformat_minor": 1
}
